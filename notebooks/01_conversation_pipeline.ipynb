{
 "cells": [
  {
   "cell_type": "markdown",
   "id": "integral-break",
   "metadata": {},
   "source": [
    "# Pipeline and conversation experiments"
   ]
  },
  {
   "cell_type": "markdown",
   "id": "swiss-boating",
   "metadata": {},
   "source": [
    "## Google translate"
   ]
  },
  {
   "cell_type": "code",
   "execution_count": 1,
   "id": "acquired-binding",
   "metadata": {},
   "outputs": [],
   "source": [
    "from googletrans import Translator\n",
    "\n",
    "translator = Translator()\n",
    "def sv_to_en(text):\n",
    "    # Translates text from swedish to english\n",
    "    out = translator.translate(text,src='sv',dest='en')\n",
    "    return out.text\n",
    "\n",
    "def en_to_sv(text):\n",
    "    # Translate text from english to swedish\n",
    "    out = translator.translate(text,src='en',dest='sv')\n",
    "    return out.text\n"
   ]
  },
  {
   "cell_type": "markdown",
   "id": "metric-shanghai",
   "metadata": {},
   "source": [
    "# Blenderbot"
   ]
  },
  {
   "cell_type": "code",
   "execution_count": 2,
   "id": "attended-founder",
   "metadata": {},
   "outputs": [],
   "source": [
    "from transformers import BlenderbotTokenizer, BlenderbotForConditionalGeneration\n",
    "from torch import no_grad\n",
    "mname = 'facebook/blenderbot-1B-distill' # options: 'facebook/blenderbot_small-90M' , 'facebook/blenderbot-400M-distill' ,'facebook/blenderbot-3B'\n",
    "model = BlenderbotForConditionalGeneration.from_pretrained(mname)\n",
    "tokenizer = BlenderbotTokenizer.from_pretrained(mname)\n",
    "\n"
   ]
  },
  {
   "cell_type": "code",
   "execution_count": 3,
   "id": "strange-bread",
   "metadata": {},
   "outputs": [],
   "source": [
    "\n",
    "## TODO for easier testing\n",
    "class BlenderConversation:\n",
    "    \n",
    "    def __init__(self,user_input=None):\n",
    "        self.len = 0\n",
    "        self.user_inputs = []\n",
    "        if user_input not None:\n",
    "            self.user_inputs.append(user_inputs)\n",
    "            self.user_turn = False\n",
    "        else:\n",
    "            self.user_turn = True\n",
    "        self.bot_replies = []\n",
    "        \n",
    "        \n",
    "    def add_user_input(self,text):\n",
    "        if self.user_turn:\n",
    "            self.user_inputs.append(text)\n",
    "        else:\n",
    "            raise ValueError(\"It's the bot's turn to add a reply to the conversation\")\n",
    "\n",
    "    \n",
    "    def add_bot_reply(self,text):\n",
    "        if not self.user_turn:\n",
    "            self.bot_replies.append(text)\n",
    "        else:\n",
    "            raise ValueError(\"It's the user's turn to add an input to the conversation\n",
    "        \n",
    "    def get_dialogue_history(self,max_len=128):\n",
    "        # Returns string of the dialogue history with bot and user inputs separated with '\\n'\n",
    "        # Todo\n",
    "        history = ''\n",
    "        tokens_left = max_len\n",
    "        if self.user_turn:\n",
    "            \n",
    "        else:\n",
    "        \n",
    "        \n",
    "    def to_txt(self):\n",
    "    \n",
    "\n",
    "\n",
    "\n",
    "def strip_token(line):\n",
    "    line = line.replace('<s>','')\n",
    "    line = line.replace('</s>','')\n",
    "    return line\n",
    "\n",
    "def save_blender_convo(convo_list):\n",
    "    s = ''\n",
    "    for line in convo_list:\n",
    "        s = s + '>>> ' + line + '\\n'\n",
    "    s = s + '\\n'\n",
    "    with open('01_conversation_output/blender_convo.txt','a') as f:\n",
    "        f.write(s)\n",
    "        "
   ]
  },
  {
   "cell_type": "markdown",
   "id": "united-bryan",
   "metadata": {},
   "source": [
    "## Dialogue history chatting helper"
   ]
  },
  {
   "cell_type": "code",
   "execution_count": 4,
   "id": "lyric-intervention",
   "metadata": {},
   "outputs": [],
   "source": [
    "\n",
    "def blender_history_chatting(user_input):\n",
    "    UTTERANCE = sv_to_en(user_input)\n",
    "    \n",
    "    convo_list_swe.append(user_input)\n",
    "    convo_list.append(UTTERANCE)\n",
    "    \n",
    "    # Check that conversation isn't longer than max_len=128 words \n",
    "    utter_len = len(UTTERANCE.split())\n",
    "    convo_len = 0\n",
    "    for words in convo_list:\n",
    "        convo_len += len(words.split())\n",
    "    \n",
    "    if convo_len > 128 - utter_len:\n",
    "        while convo_len > 128:\n",
    "            throw_away= convo_list.pop(0)\n",
    "            convo_len -= len(throw_away.split())\n",
    "\n",
    "    context = ''\n",
    "    for i,line in enumerate(convo_list):\n",
    "        if i == len(convo_list) -1:\n",
    "            context = context + line\n",
    "        else:\n",
    "            context = context + line + '\\n'\n",
    "\n",
    "    with no_grad():\n",
    "        inputs = tokenizer([context], return_tensors='pt')\n",
    "        reply_ids = model.generate(**inputs)\n",
    "\n",
    "        reply = strip_token(tokenizer.batch_decode(reply_ids)[0])\n",
    "    convo_list.append(reply)\n",
    "\n",
    "    convo_list_swe.append(en_to_sv(reply))\n",
    "    for line in convo_list_swe:\n",
    "        print(line,'\\n')\n",
    "   \n"
   ]
  },
  {
   "cell_type": "markdown",
   "id": "nutritional-trading",
   "metadata": {},
   "source": [
    "## 1. Dialogue history chatting - model given dialogue as context"
   ]
  },
  {
   "cell_type": "code",
   "execution_count": 18,
   "id": "representative-stupid",
   "metadata": {},
   "outputs": [],
   "source": [
    "# Reset convo lists\n",
    "convo_list = []\n",
    "convo_list_swe = []\n"
   ]
  },
  {
   "cell_type": "code",
   "execution_count": 21,
   "id": "appreciated-alpha",
   "metadata": {},
   "outputs": [
    {
     "name": "stdout",
     "output_type": "stream",
     "text": [
      "Hej Melina! \n",
      "\n",
      "Hej! Hur mår du idag? Jag mår bra, tack. Och du då? \n",
      "\n",
      "Jag mår bra! \n",
      "\n",
      "Det är fantastiskt att höra! Jag mår bra också. Vad ska du göra idag? \n",
      "\n",
      "Jag ska ut och springa  \n",
      "\n",
      "Toppen! Jag kom precis tillbaka från en körning själv. Hur länge har du kört? \n",
      "\n"
     ]
    }
   ],
   "source": [
    "user_input = 'Jag ska ut och springa '\n",
    "\n",
    "blender_history_chatting(user_input)"
   ]
  },
  {
   "cell_type": "markdown",
   "id": "breathing-samba",
   "metadata": {},
   "source": [
    "## Save convo to text file"
   ]
  },
  {
   "cell_type": "code",
   "execution_count": null,
   "id": "listed-sequence",
   "metadata": {},
   "outputs": [],
   "source": [
    "save_blender_convo(convo_list_swe)"
   ]
  },
  {
   "cell_type": "markdown",
   "id": "powered-brooks",
   "metadata": {},
   "source": [
    "## Context chatting helper"
   ]
  },
  {
   "cell_type": "code",
   "execution_count": 6,
   "id": "fossil-conversation",
   "metadata": {},
   "outputs": [],
   "source": [
    "def blender_context_chatting(user_input):\n",
    "    # Translation and conversation recording\n",
    "    UTTERANCE = sv_to_en(user_input)\n",
    "    convo_list_swe.append(user_input)\n",
    "\n",
    "    model_input = context + '\\n' + UTTERANCE\n",
    "\n",
    "    # To model\n",
    "    with no_grad():\n",
    "        inputs = tokenizer([model_input], return_tensors='pt')\n",
    "        reply_ids = model.generate(**inputs)\n",
    "        reply = strip_token(tokenizer.batch_decode(reply_ids)[0])\n",
    "\n",
    "    # Add reply to conversation and print conversation history\n",
    "    convo_list.append(reply)\n",
    "    convo_list_swe.append(en_to_sv(reply))\n",
    "    for i, line in enumerate(convo_list_swe):\n",
    "        if i % 2:\n",
    "            print('bot >>> ',line,'\\n')\n",
    "        else:\n",
    "            print('user >>> ',line,'\\n')\n",
    "\n"
   ]
  },
  {
   "cell_type": "markdown",
   "id": "mighty-david",
   "metadata": {},
   "source": [
    "## 2. Context chatting - bot has access to the context text and the most recent user input"
   ]
  },
  {
   "cell_type": "code",
   "execution_count": 11,
   "id": "affecting-privilege",
   "metadata": {},
   "outputs": [],
   "source": [
    "context = 'Jag är här på intervju. Jag söker ett jobb som städare. Jag har erfarenhet från två tidigare jobb.'\n",
    "context = sv_to_en(context)\n",
    "\n",
    "# Reset conversation lists\n",
    "convo_list_swe = []"
   ]
  },
  {
   "cell_type": "code",
   "execution_count": 17,
   "id": "appointed-budapest",
   "metadata": {},
   "outputs": [
    {
     "name": "stdout",
     "output_type": "stream",
     "text": [
      "user >>>  Hej  \n",
      "\n",
      "bot >>>  Hej hur mår du? Jag letar efter ett jobb som städare. Jag har erfarenhet från två tidigare jobb. \n",
      "\n",
      "user >>>  Nej jag söker jobb. DU ska intervjua mig \n",
      "\n",
      "bot >>>  Jag är här för en intervju. Jag letar efter ett jobb som städare. Jag har erfarenhet från två tidigare jobb. \n",
      "\n",
      "user >>>  Jag är från KIna \n",
      "\n",
      "bot >>>  Det är coolt. Jag har aldrig varit i Kina. Vad arbetar du med? \n",
      "\n",
      "user >>>  Jag är arbetssökande \n",
      "\n",
      "bot >>>  Toppen! Jag hoppas att du får jobbet. Vilken typ av jobb letar du efter? \n",
      "\n",
      "user >>>  Tack, ger du mig det? \n",
      "\n",
      "bot >>>  Nej, jag ger det inte till dig. Jag letar efter ett jobb som städare. Jag har erfarenhet från två tidigare jobb. \n",
      "\n"
     ]
    }
   ],
   "source": [
    "user_input= 'Tack, ger du mig det?'\n",
    "blender_context_chatting(user_input)"
   ]
  },
  {
   "cell_type": "markdown",
   "id": "little-mistress",
   "metadata": {},
   "source": [
    "## Save conversation to text file "
   ]
  },
  {
   "cell_type": "code",
   "execution_count": 62,
   "id": "guilty-given",
   "metadata": {},
   "outputs": [],
   "source": [
    "save_blender_convo(convo_list_swe)"
   ]
  }
 ],
 "metadata": {
  "kernelspec": {
   "display_name": "testenv",
   "language": "python",
   "name": "testenv"
  },
  "language_info": {
   "codemirror_mode": {
    "name": "ipython",
    "version": 3
   },
   "file_extension": ".py",
   "mimetype": "text/x-python",
   "name": "python",
   "nbconvert_exporter": "python",
   "pygments_lexer": "ipython3",
   "version": "3.8.5"
  }
 },
 "nbformat": 4,
 "nbformat_minor": 5
}
