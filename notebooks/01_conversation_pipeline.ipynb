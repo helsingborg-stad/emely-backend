{
 "cells": [
  {
   "cell_type": "markdown",
   "id": "integral-break",
   "metadata": {},
   "source": [
    "# Conversation experiments for blenderbot\n",
    "Blenderbot is a facebook model trained to chat. As input it takes a sequence of text(max_length=128) and then outputs a reply.\n",
    "\n",
    "The input can be formed in different ways to give it contextual information. In this notebook we experiment with different ways of constructing this input:\n",
    "#### 1. Dialogue history: Model gets as much of the dialogue history that it can\n",
    "    - input : [user_input_1, bot_reply_1, user_input_2, bot_reply_2.... new_user_input]\n",
    "#### 2. Subject: Model gets an input string that describes a subject, e.g. weather, + the users input at each step\n",
    "    - input : [subject_string, last_bot_reply, new_user_input]\n",
    "#### 3. Subject and dialogue: \n",
    "    - input : [subject_string, user_input_X, bot_reply_X... new_user_input]\n",
    "    \n",
    "## How to use this notebook:\n",
    "1. Run everything in chapter 0 to load model and define functions\n",
    "2. Jump to section 1,2 or 3 to chat with the model in different ways"
   ]
  },
  {
   "cell_type": "markdown",
   "id": "swiss-boating",
   "metadata": {},
   "source": [
    "## Google translate for translating text back and forth"
   ]
  },
  {
   "cell_type": "code",
   "execution_count": 69,
   "id": "acquired-binding",
   "metadata": {},
   "outputs": [],
   "source": [
    "from googletrans import Translator\n",
    "\n",
    "translator = Translator()\n",
    "def sv_to_en(text):\n",
    "    # Translates text from swedish to english\n",
    "    out = translator.translate(text,src='sv',dest='en')\n",
    "    return out.text\n",
    "\n",
    "def en_to_sv(text):\n",
    "    # Translate text from english to swedish\n",
    "    out = translator.translate(text,src='en',dest='sv')\n",
    "    return out.text\n"
   ]
  },
  {
   "cell_type": "markdown",
   "id": "metric-shanghai",
   "metadata": {},
   "source": [
    "# Blenderbot"
   ]
  },
  {
   "cell_type": "code",
   "execution_count": 70,
   "id": "attended-founder",
   "metadata": {},
   "outputs": [],
   "source": [
    "from transformers import BlenderbotTokenizer, BlenderbotForConditionalGeneration\n",
    "from torch import no_grad\n",
    "mname = 'facebook/blenderbot-1B-distill' # options: 'facebook/blenderbot_small-90M' , 'facebook/blenderbot-400M-distill' ,'facebook/blenderbot-3B'\n",
    "model = BlenderbotForConditionalGeneration.from_pretrained(mname)\n",
    "tokenizer = BlenderbotTokenizer.from_pretrained(mname)"
   ]
  },
  {
   "cell_type": "markdown",
   "id": "premium-toddler",
   "metadata": {},
   "source": [
    "## BlenderConversation is a class for storing the conversation with blenderbot"
   ]
  },
  {
   "cell_type": "code",
   "execution_count": 51,
   "id": "strange-bread",
   "metadata": {},
   "outputs": [],
   "source": [
    "class BlenderConversation:\n",
    "    \n",
    "    def __init__(self,lang,description='No description'):\n",
    "        self.lang = lang\n",
    "        self.description = description\n",
    "        self.bot_text = []\n",
    "        self.user_text = []\n",
    "        self.user_turn = True\n",
    "        \n",
    "        \n",
    "    def add_user_text(self,text):\n",
    "        if self.user_turn:\n",
    "            self.user_text.append(text)\n",
    "            self.user_turn = False\n",
    "        else:\n",
    "            raise ValueError(\"It's the bot's turn to add a reply to the conversation\")\n",
    "        return\n",
    "    \n",
    "    def add_bot_text(self,text):\n",
    "        if not self.user_turn:\n",
    "            self.bot_text.append(text)\n",
    "            self.user_turn = True\n",
    "        else:\n",
    "            raise ValueError(\"It's the user's turn to add an input to the conversation\")\n",
    "        return\n",
    "        \n",
    "    def get_dialogue_history(self,max_len=110):\n",
    "        # Returns string of the dialogue history with bot and user inputs separated with '\\n'\n",
    "        # max_len set to default 110 as model has max input length 128 and we want some space for new input \n",
    "        history = ''\n",
    "        tokens_left = max_len\n",
    "        if self.user_turn:\n",
    "            # Start backwards from bot_text\n",
    "            for i in reversed(range(len(self.user_text))):\n",
    "                bot_text = self.bot_text[i]\n",
    "                user_text = self.user_text[i]\n",
    "                nbr_tokens = len(bot_text.split()) + len(user_text.split())\n",
    "                if  nbr_tokens < tokens_left: # This is not fool proof as the model tokenizer tokenizes differently\n",
    "                    history = user_text + '\\n' + bot_text + '\\n' + history\n",
    "                    tokens_left -= nbr_tokens\n",
    "                                \n",
    "        else:\n",
    "            # Start backwards from user_text\n",
    "            history = self.user_text[-1]\n",
    "            tokens_left -= len(self.user_text[-1].split())\n",
    "            for i in reversed(range(len(self.user_text)-1)):\n",
    "                bot_text = self.bot_text[i]\n",
    "                user_text = self.user_text[i]\n",
    "                nbr_tokens = len(bot_text.split()) + len(user_text.split())\n",
    "                if  nbr_tokens < tokens_left: # This is not fool proof as the model tokenizer tokenizes differently\n",
    "                    history = user_text + '\\n' + bot_text + '\\n' + history\n",
    "                    tokens_left -= nbr_tokens\n",
    "        return history\n",
    "        \n",
    "    def to_txt(self,file='blender_conversation.txt'):\n",
    "        # Writes the dialogue to txt file in subdirectory\n",
    "        text = '####################################\\n' + 'Conversation description: ' + self.description + '\\n\\n'\n",
    "        if self.user_turn:\n",
    "            for i in range(len(self.user_text)):\n",
    "                text = text + 'User>>> '+ self.user_text[i] + '\\n Bot>>> ' + self.bot_text[i] + '\\n'\n",
    "        else:\n",
    "            for i in range(len(self.bot_text)):\n",
    "                text = text + 'User>>> '+ self.user_text[i] + '\\n Bot>>> ' + self.bot_text[i] + '\\n'\n",
    "            text = text + 'User>>> ' + self.user_text[-1]\n",
    "        \n",
    "        text = text + '\\n\\n'\n",
    "        file_path = '01_conversation_output/' + file\n",
    "        with open(file_path,'a') as f:\n",
    "            f.write(text)\n",
    "        return\n",
    "         \n",
    "    \n",
    "    def print_dialogue(self):\n",
    "        # Prints the dialogue \n",
    "        text = ''\n",
    "        if self.user_turn:\n",
    "            for i in range(len(self.user_text)):\n",
    "                text = text + 'User>>> '+ self.user_text[i] + '\\n Bot>>> ' + self.bot_text[i] + '\\n'\n",
    "        else:\n",
    "            for i in range(len(self.bot_text)):\n",
    "                text = text + 'User>>> '+ self.user_text[i] + '\\n Bot>>> ' + self.bot_text[i] + '\\n'\n",
    "            text = text + 'User>>> ' + self.user_text[-1]\n",
    "        print(text)\n",
    "        return\n",
    "\n",
    "\n",
    "def strip_token(line):\n",
    "    # Removes SOS and EOS tokens from blenderbot reply\n",
    "    line = line.replace('<s>','')\n",
    "    line = line.replace('</s>','')\n",
    "    return line\n"
   ]
  },
  {
   "cell_type": "markdown",
   "id": "united-bryan",
   "metadata": {},
   "source": [
    "# 1 - Dialogue history\n",
    "#### First a helper function for taking care of the conversation"
   ]
  },
  {
   "cell_type": "code",
   "execution_count": 66,
   "id": "lyric-intervention",
   "metadata": {},
   "outputs": [],
   "source": [
    "def blender_history_chatting(user_input,convo_sv,convo_en):\n",
    "    #assert convo_sv.lang == 'en' and convo_en.lang =='sv'\n",
    "    \n",
    "    translated_user_input = sv_to_en(user_input)\n",
    "    \n",
    "    # Add inputs to conversations\n",
    "    convo_sv.add_user_text(user_input)\n",
    "    convo_en.add_user_text(translated_user_input)\n",
    "    \n",
    "    context = convo_en.get_dialogue_history()\n",
    "    model_input = context + '\\n' + translated_user_input\n",
    "\n",
    "    with no_grad():\n",
    "        inputs = tokenizer([model_input], return_tensors='pt')\n",
    "        reply_ids = model.generate(**inputs)\n",
    "\n",
    "        reply = strip_token(tokenizer.batch_decode(reply_ids)[0]) # Decodes tokens and strips <s> and </s>  \n",
    "    \n",
    "    convo_en.add_bot_text(reply)\n",
    "    convo_sv.add_bot_text(en_to_sv(reply))\n",
    "    convo_sv.print_dialogue()\n",
    "    return"
   ]
  },
  {
   "cell_type": "markdown",
   "id": "nutritional-trading",
   "metadata": {},
   "source": [
    "#### Conversation objects for storing the conversation in swedish and english"
   ]
  },
  {
   "cell_type": "code",
   "execution_count": 67,
   "id": "representative-stupid",
   "metadata": {},
   "outputs": [
    {
     "name": "stdout",
     "output_type": "stream",
     "text": [
      "well\n"
     ]
    }
   ],
   "source": [
    "history_conversation_sv = BlenderConversation('sv','Model gets entire dialogue history as context')\n",
    "history_conversation_en = BlenderConversation('en','Model gets entire dialogue history as context')"
   ]
  },
  {
   "cell_type": "markdown",
   "id": "scientific-complex",
   "metadata": {},
   "source": [
    "## Use the cell below to chat"
   ]
  },
  {
   "cell_type": "code",
   "execution_count": 74,
   "id": "appreciated-alpha",
   "metadata": {},
   "outputs": [
    {
     "name": "stdout",
     "output_type": "stream",
     "text": [
      "User>>> Jag ska ut och springa \n",
      " Bot>>> Vilken typ av körning gör du? Jag gillar att springa, men jag är inte särskilt bra på det.\n",
      "User>>> Jag ska springa 3km. Det är kallt ute så jag vill inte springa längre än så\n",
      " Bot>>> Jag gillar att springa också, men jag är inte särskilt bra på det. Jag springer vanligtvis på ett löpband.\n",
      "User>>> Tycker du inte om att vara ute?\n",
      " Bot>>> Jag gillar att vara ute, men jag är inte så bra på det. Jag föredrar att springa på ett löpband.\n",
      "\n"
     ]
    }
   ],
   "source": [
    "user_input = 'Tycker du inte om att vara ute?'\n",
    "\n",
    "blender_history_chatting(user_input,history_conversation_sv,history_conversation_en)"
   ]
  },
  {
   "cell_type": "markdown",
   "id": "liberal-practice",
   "metadata": {},
   "source": [
    "### Print conversation in english"
   ]
  },
  {
   "cell_type": "code",
   "execution_count": 72,
   "id": "mineral-fighter",
   "metadata": {},
   "outputs": [
    {
     "name": "stdout",
     "output_type": "stream",
     "text": [
      "User>>> I'm going out for a run\n",
      " Bot>>>  What kind of run are you doing? I like to run, but I'm not very good at it.\n",
      "\n"
     ]
    }
   ],
   "source": [
    "history_conversation_en.print_dialogue()"
   ]
  },
  {
   "cell_type": "markdown",
   "id": "breathing-samba",
   "metadata": {},
   "source": [
    "### Save convo to text file"
   ]
  },
  {
   "cell_type": "code",
   "execution_count": null,
   "id": "listed-sequence",
   "metadata": {},
   "outputs": [],
   "source": [
    "history_conversation_sv.to_txt('dialogue_history_convo.txt')"
   ]
  },
  {
   "cell_type": "markdown",
   "id": "powered-brooks",
   "metadata": {},
   "source": [
    "# 2.  Subject chatting helper"
   ]
  },
  {
   "cell_type": "code",
   "execution_count": 93,
   "id": "fossil-conversation",
   "metadata": {},
   "outputs": [],
   "source": [
    "def blender_subject_chatting(user_input,convo_sv,convo_en):\n",
    "    #assert convo_sv.lang == 'en' and convo_en.lang =='sv'\n",
    "    \n",
    "    translated_user_input = sv_to_en(user_input)\n",
    "    \n",
    "    # Add inputs to conversations\n",
    "    convo_sv.add_user_text(user_input)\n",
    "    convo_en.add_user_text(translated_user_input)\n",
    "    \n",
    "    if len(convo_en.bot_text) == 0:\n",
    "        model_input = subject + '\\n' +  translated_user_input\n",
    "    else:\n",
    "        model_input = subject + '\\n' + convo_en.bot_text[-1] + '\\n' +  translated_user_input\n",
    "\n",
    "    with no_grad():\n",
    "        inputs = tokenizer([model_input], return_tensors='pt')\n",
    "        reply_ids = model.generate(**inputs)\n",
    "\n",
    "        reply = strip_token(tokenizer.batch_decode(reply_ids)[0]) # Decodes tokens and strips <s> and </s>  \n",
    "    \n",
    "    convo_en.add_bot_text(reply)\n",
    "    convo_sv.add_bot_text(en_to_sv(reply))\n",
    "    convo_sv.print_dialogue()\n",
    "    return\n",
    "\n"
   ]
  },
  {
   "cell_type": "markdown",
   "id": "mighty-david",
   "metadata": {},
   "source": [
    "### Set subject for conversation"
   ]
  },
  {
   "cell_type": "code",
   "execution_count": 102,
   "id": "affecting-privilege",
   "metadata": {},
   "outputs": [],
   "source": [
    "kontext = 'Vad heter du förresten?'\n",
    "subject = sv_to_en(kontext)\n",
    "\n",
    "subject_conversation_sv = BlenderConversation('sv','Conversation subject: ' + kontext)\n",
    "subject_conversation_en = BlenderConversation('en', 'Conversation subject: ' + subject)"
   ]
  },
  {
   "cell_type": "markdown",
   "id": "graduate-union",
   "metadata": {},
   "source": [
    "## Use cell below to chat "
   ]
  },
  {
   "cell_type": "code",
   "execution_count": 101,
   "id": "appointed-budapest",
   "metadata": {},
   "outputs": [
    {
     "name": "stdout",
     "output_type": "stream",
     "text": [
      "User>>> Hej\n",
      " Bot>>> Hej hur mår du? Jag älskar att prata om vädret, det är en av mina favorit saker att göra.\n",
      "User>>> Hur är vädret hos dig?\n",
      " Bot>>> Det är lite kyligt, men inte så illa. Hur är vädret där du är?\n",
      "User>>> Det är kallt och snöar\n",
      " Bot>>> Det är lite kyligt här också, men inte så illa. Jag älskar snön.\n",
      "User>>> Varför gillar du snö?\n",
      " Bot>>> Jag älskar snön eftersom det påminner mig om att vara barn och leka i snön. Och du då?\n",
      "User>>> Jag gillar att åka skidor\n",
      " Bot>>> Jag har aldrig åkt skidor, men jag har alltid velat åka. Det ser ut som så kul!\n",
      "User>>> Det är jättekul faktiskt\n",
      " Bot>>> Jag har aldrig åkt skidor heller, men det ser ut som att det skulle vara jättekul.\n",
      "User>>> Åker du snowboard\n",
      " Bot>>> Jag har aldrig snowboard, men jag skulle vilja prova det. Jag tror att det skulle vara jättekul.\n",
      "\n"
     ]
    }
   ],
   "source": [
    "user_input= 'Åker du snowboard'\n",
    "blender_subject_chatting(user_input,subject_conversation_sv,subject_conversation_en)"
   ]
  },
  {
   "cell_type": "markdown",
   "id": "technical-logan",
   "metadata": {},
   "source": [
    "### Print conversaton in english"
   ]
  },
  {
   "cell_type": "code",
   "execution_count": null,
   "id": "common-feelings",
   "metadata": {},
   "outputs": [],
   "source": [
    "subject_conversation_en.print_dialogue()"
   ]
  },
  {
   "cell_type": "markdown",
   "id": "little-mistress",
   "metadata": {},
   "source": [
    "### Save conversation to text file "
   ]
  },
  {
   "cell_type": "code",
   "execution_count": 103,
   "id": "guilty-given",
   "metadata": {},
   "outputs": [],
   "source": [
    "subject_conversation_sv.to_txt('subject_convo.txt')"
   ]
  },
  {
   "cell_type": "markdown",
   "id": "sustainable-graphics",
   "metadata": {},
   "source": [
    "# 3. Dynamic inoput context -TODO "
   ]
  },
  {
   "cell_type": "code",
   "execution_count": null,
   "id": "intelligent-beginning",
   "metadata": {},
   "outputs": [],
   "source": []
  }
 ],
 "metadata": {
  "kernelspec": {
   "display_name": "testenv",
   "language": "python",
   "name": "testenv"
  },
  "language_info": {
   "codemirror_mode": {
    "name": "ipython",
    "version": 3
   },
   "file_extension": ".py",
   "mimetype": "text/x-python",
   "name": "python",
   "nbconvert_exporter": "python",
   "pygments_lexer": "ipython3",
   "version": "3.8.5"
  }
 },
 "nbformat": 4,
 "nbformat_minor": 5
}
