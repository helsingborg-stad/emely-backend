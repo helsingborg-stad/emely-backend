{
 "cells": [
  {
   "cell_type": "code",
   "execution_count": 1,
   "id": "future-catalog",
   "metadata": {},
   "outputs": [],
   "source": [
    "from pathlib import Path"
   ]
  },
  {
   "cell_type": "code",
   "execution_count": 7,
   "id": "entertaining-estonia",
   "metadata": {},
   "outputs": [],
   "source": [
    "p = Path('core_competences.txt')\n",
    "\n",
    "with open(p, 'r') as f:\n",
    "    data = f.readlines()\n",
    "    "
   ]
  },
  {
   "cell_type": "code",
   "execution_count": 22,
   "id": "placed-deviation",
   "metadata": {},
   "outputs": [],
   "source": [
    "def parse_data(p):\n",
    "    \n",
    "    with open(p, 'r') as f:\n",
    "        data = f.read()\n",
    "        datalines = data.split('\\n')\n",
    "        \n",
    "    job_to_competences = {}\n",
    "    for line in datalines:\n",
    "        job, competences = line.split(':')\n",
    "        competences = competences.split(';')\n",
    "        for i in range(len(competences)):\n",
    "            c = competences[i].strip(' ').strip(';')\n",
    "            competences[i] = c\n",
    "        \n",
    "        job_to_competences[job] = competences[:-1]\n",
    "            \n",
    "    return job_to_competences\n",
    "    "
   ]
  },
  {
   "cell_type": "code",
   "execution_count": 23,
   "id": "realistic-manufacturer",
   "metadata": {},
   "outputs": [
    {
     "name": "stdout",
     "output_type": "stream",
     "text": [
      "sjuksköterska\n",
      "['allergibehandling', 'diabetesvård', 'dialys', 'medicinsk vård', 'Omvårdnad', 'Smärtbehandling'] \n",
      "\n",
      "bilmekaniker\n",
      "['Balansering av hjul', 'Bensinmotorer', 'Bromssystem', 'Dieselmotorer', 'Fordonselektronik', 'växellådereparationer'] \n",
      "\n",
      "lastbilsförare\n",
      "['att hantera byggtransporter', 'att hantera djurtransporter', 'att köra dragbil', 'att köra grusbil', 'specialtransporter'] \n",
      "\n",
      "lärare\n",
      "['undervisning', 'undervising i engelska', 'undervisning i Filosofi', 'undervisning i Matematik', 'Moderna språk', 'Samhällskunskap', 'pedagogik'] \n",
      "\n",
      "förskollärare\n",
      "['Barn- och ungdomspedagogik', 'Fritidspedagogik', 'Modersmålsundervisning', 'Avslappningsövningar', 'Barn- och ungdomsidrott'] \n",
      "\n",
      "brevbärare\n",
      "['Brevsortering', 'Paketsortering', 'brevutdelning'] \n",
      "\n",
      "lokalvårdare\n",
      "['Butiksstädning', 'Byggstädning', 'Fönsterputsning', 'tunga lyft', 'Golvvårdsmaskiner'] \n",
      "\n",
      "tandsköterska\n",
      "['vårderfarenhet', 'Munhälsovård', 'Specialisttandvård', 'Tandreglering'] \n",
      "\n",
      "vårdassistent\n",
      "['omsorgserfarenhet', 'Daglig verksamhet', 'Demensvård', 'Hemsjukvård', 'Hemtjänst', 'Äldreomsorg'] \n",
      "\n",
      "receptionist\n",
      "['Faktureringsvana', 'Personalansvar', 'Personalplanering', 'Receptionsvana'] \n",
      "\n",
      "ekonomiassistent\n",
      "['redovisningssystem', 'affärssystem', 'Bokföring', 'Ekonomiadministration'] \n",
      "\n",
      "snickare\n",
      "['montering', 'Fönstermontage/Fönstermontering', 'Fönsterrenovering', 'tunga lyft', 'ROT-jobb', 'Takläggning'] \n",
      "\n",
      "bartender\n",
      "['Bararbete', 'Kassaredovisning', 'att hantera kassan', 'Personalansvar'] \n",
      "\n",
      "lagerarbetare\n",
      "['tunga lyft', 'Lagerhanteringsprogram', 'Logistik', 'Transportplanering', 'Varumottagning'] \n",
      "\n",
      "parkförvaltare\n",
      "['Bevattningsteknik', 'Krukväxtodling', 'Kulturmiljövård', 'skötsel av Kyrkogård', 'skötsel av Parker', 'Trädgårdsrådgivning'] \n",
      "\n",
      "vaktmästare\n",
      "['Fastighetsdrift', 'Fastighetsskötsel', 'Fastighetsteknik', 'Fastighetsunderhåll', 'Trädgårdsskötsel'] \n",
      "\n",
      "servitör\n",
      "['Bordsservering', 'Cateringverksamheter', 'Fatservering', 'Kassaredovisning', 'Kassahantering', 'Matsedelsplanering'] \n",
      "\n"
     ]
    }
   ],
   "source": [
    "d = parse_data(p)\n",
    "\n",
    "for k, v in d.items():\n",
    "    print(k)\n",
    "    print(v, '\\n')"
   ]
  },
  {
   "cell_type": "code",
   "execution_count": 4,
   "id": "dressed-swaziland",
   "metadata": {},
   "outputs": [
    {
     "data": {
      "text/plain": [
       "17"
      ]
     },
     "execution_count": 4,
     "metadata": {},
     "output_type": "execute_result"
    }
   ],
   "source": [
    "len(jobs)"
   ]
  },
  {
   "cell_type": "code",
   "execution_count": 6,
   "id": "operational-installation",
   "metadata": {},
   "outputs": [
    {
     "name": "stdout",
     "output_type": "stream",
     "text": [
      "sjuksköterska\n",
      "allergibehandling\n",
      "diabetesvård\n",
      "dialys\n",
      "medicinsk vård\n",
      "Omvårdnad\n",
      "Smärtbehandling;\n",
      "\n",
      "bilmekaniker\n",
      " Balansering av hjul\n",
      "Bensinmotorer\n",
      "Bromssystem\n",
      "Dieselmotorer\n",
      "Fordonselektronik\n",
      "växellådereparationer;\n",
      "\n",
      "lastbilsförare\n",
      "att hantera byggtransporter\n",
      "att hantera djurtransporter\n",
      "att köra dragbil\n",
      "att köra grusbil\n",
      " specialtransporter;\n",
      "\n",
      "lärare\n",
      "undervisning\n",
      "undervising i engelska\n",
      "undervisning i Filosofi\n",
      "undervisning i Matematik\n",
      "Moderna språk\n",
      "Samhällskunskap\n",
      "pedagogik;\n",
      "\n",
      "förskollärare\n",
      "Barn- och ungdomspedagogik\n",
      "Fritidspedagogik\n",
      "Modersmålsundervisning\n",
      "Avslappningsövningar\n",
      "Barn- och ungdomsidrott;\n",
      "\n",
      "brevbärare\n",
      "Brevsortering\n",
      "Paketsortering\n",
      "brevutdelning;\n",
      "\n",
      "lokalvårdare\n",
      "Butiksstädning\n",
      "Byggstädning\n",
      "Fönsterputsning\n",
      "tunga lyft\n",
      "Golvvårdsmaskiner;\n",
      "\n",
      "tandsköterska\n",
      "vårderfarenhet\n",
      " Munhälsovård\n",
      "Specialisttandvård\n",
      "Tandreglering;\n",
      "\n",
      "vårdassistent\n",
      "omsorgserfarenhet\n",
      "Daglig verksamhet\n",
      "Demensvård\n",
      "Hemsjukvård\n",
      "Hemtjänst\n",
      "Äldreomsorg;\n",
      "\n",
      "receptionist\n",
      "Faktureringsvana\n",
      "Personalansvar\n",
      "Personalplanering\n",
      "Receptionsvana;\n",
      "\n",
      "ekonomiassistent\n",
      "redovisningssystem\n",
      "affärssystem\n",
      "Bokföring\n",
      "Ekonomiadministration;\n",
      "\n",
      "snickare\n",
      "montering\n",
      "Fönstermontage/Fönstermontering\n",
      "Fönsterrenovering\n",
      "tunga lyft\n",
      "ROT-jobb\n",
      "Takläggning;\n",
      "\n",
      "bartender\n",
      "Bararbete\n",
      "Kassaredovisning\n",
      "att hantera kassan\n",
      "Personalansvar;\n",
      "\n",
      "lagerarbetare\n",
      "tunga lyft\n",
      " Lagerhanteringsprogram\n",
      " Logistik\n",
      " Transportplanering\n",
      " Varumottagning;\n",
      "\n",
      "parkförvaltare\n",
      " Bevattningsteknik\n",
      "Krukväxtodling\n",
      "Kulturmiljövård\n",
      " skötsel av Kyrkogård\n",
      "skötsel av Parker\n",
      "Trädgårdsrådgivning;\n",
      "\n",
      "vaktmästare\n",
      "Fastighetsdrift\n",
      "Fastighetsskötsel\n",
      "Fastighetsteknik\n",
      "Fastighetsunderhåll\n",
      "Trädgårdsskötsel;\n",
      "\n",
      "servitör\n",
      "Bordsservering\n",
      "Cateringverksamheter\n",
      "Fatservering\n",
      "Kassaredovisning\n",
      "Kassahantering\n",
      " Matsedelsplanering;\n"
     ]
    }
   ],
   "source": [
    "for job in jobs:\n",
    "    occupation, competences = job.split(': ')\n",
    "    competences = competences.split('; ')\n",
    "    print(occupation)\n",
    "    for c in competences:\n",
    "        print(c)"
   ]
  },
  {
   "cell_type": "code",
   "execution_count": 27,
   "id": "optimum-england",
   "metadata": {},
   "outputs": [],
   "source": [
    "from src.chat.questions import QuestionGenerator"
   ]
  },
  {
   "cell_type": "code",
   "execution_count": 28,
   "id": "driving-static",
   "metadata": {},
   "outputs": [],
   "source": [
    "q = QuestionGenerator()"
   ]
  },
  {
   "cell_type": "code",
   "execution_count": 29,
   "id": "accurate-substitute",
   "metadata": {},
   "outputs": [
    {
     "ename": "KeyError",
     "evalue": "'tandläkare'",
     "output_type": "error",
     "traceback": [
      "\u001b[1;31m---------------------------------------------------------------------------\u001b[0m",
      "\u001b[1;31mKeyError\u001b[0m                                  Traceback (most recent call last)",
      "\u001b[1;32m<ipython-input-29-2140aa202fbb>\u001b[0m in \u001b[0;36m<module>\u001b[1;34m\u001b[0m\n\u001b[1;32m----> 1\u001b[1;33m \u001b[0mq\u001b[0m\u001b[1;33m.\u001b[0m\u001b[0mget_interview_questions\u001b[0m\u001b[1;33m(\u001b[0m\u001b[1;34m'tandläkare'\u001b[0m\u001b[1;33m)\u001b[0m\u001b[1;33m\u001b[0m\u001b[1;33m\u001b[0m\u001b[0m\n\u001b[0m",
      "\u001b[1;32mc:\\users\\alexanderhagelborn\\code\\freja\\src\\chat\\questions.py\u001b[0m in \u001b[0;36mget_interview_questions\u001b[1;34m(self, job)\u001b[0m\n\u001b[0;32m     28\u001b[0m \u001b[1;33m\u001b[0m\u001b[0m\n\u001b[0;32m     29\u001b[0m         \u001b[1;32melse\u001b[0m\u001b[1;33m:\u001b[0m\u001b[1;33m\u001b[0m\u001b[1;33m\u001b[0m\u001b[0m\n\u001b[1;32m---> 30\u001b[1;33m             \u001b[1;32mreturn\u001b[0m \u001b[0mself\u001b[0m\u001b[1;33m.\u001b[0m\u001b[0mget_general_questions\u001b[0m\u001b[1;33m(\u001b[0m\u001b[0mjob\u001b[0m\u001b[1;33m)\u001b[0m\u001b[1;33m\u001b[0m\u001b[1;33m\u001b[0m\u001b[0m\n\u001b[0m\u001b[0;32m     31\u001b[0m \u001b[1;33m\u001b[0m\u001b[0m\n\u001b[0;32m     32\u001b[0m \u001b[1;33m\u001b[0m\u001b[0m\n",
      "\u001b[1;32mc:\\users\\alexanderhagelborn\\code\\freja\\src\\chat\\questions.py\u001b[0m in \u001b[0;36mget_competence_questions\u001b[1;34m(self, job)\u001b[0m\n\u001b[0;32m     45\u001b[0m         \u001b[1;34m\"\"\" Used if the job is NOT in the list of supported jobs that data was collected for\"\"\"\u001b[0m\u001b[1;33m\u001b[0m\u001b[1;33m\u001b[0m\u001b[0m\n\u001b[0;32m     46\u001b[0m         \u001b[0mnbr_questions\u001b[0m \u001b[1;33m=\u001b[0m \u001b[0mself\u001b[0m\u001b[1;33m.\u001b[0m\u001b[0mnbr_questions\u001b[0m\u001b[1;33m\u001b[0m\u001b[1;33m\u001b[0m\u001b[0m\n\u001b[1;32m---> 47\u001b[1;33m         \u001b[0mjob_competences\u001b[0m \u001b[1;33m=\u001b[0m \u001b[0mself\u001b[0m\u001b[1;33m.\u001b[0m\u001b[0mjob_to_competences\u001b[0m\u001b[1;33m[\u001b[0m\u001b[0mjob\u001b[0m\u001b[1;33m]\u001b[0m\u001b[1;33m\u001b[0m\u001b[1;33m\u001b[0m\u001b[0m\n\u001b[0m\u001b[0;32m     48\u001b[0m         \u001b[0mcompetences\u001b[0m \u001b[1;33m=\u001b[0m \u001b[0mrandom\u001b[0m\u001b[1;33m.\u001b[0m\u001b[0msample\u001b[0m\u001b[1;33m(\u001b[0m\u001b[0mjob_competences\u001b[0m\u001b[1;33m,\u001b[0m \u001b[0mnbr_questions\u001b[0m\u001b[1;33m)\u001b[0m\u001b[1;33m\u001b[0m\u001b[1;33m\u001b[0m\u001b[0m\n\u001b[0;32m     49\u001b[0m         \u001b[0mquestions\u001b[0m \u001b[1;33m=\u001b[0m \u001b[0mrandom\u001b[0m\u001b[1;33m.\u001b[0m\u001b[0msample\u001b[0m\u001b[1;33m(\u001b[0m\u001b[0mself\u001b[0m\u001b[1;33m.\u001b[0m\u001b[0mcompetence_questions\u001b[0m\u001b[1;33m,\u001b[0m \u001b[0mnbr_questions\u001b[0m\u001b[1;33m)\u001b[0m\u001b[1;33m\u001b[0m\u001b[1;33m\u001b[0m\u001b[0m\n",
      "\u001b[1;31mKeyError\u001b[0m: 'tandläkare'"
     ]
    }
   ],
   "source": [
    "q.get_interview_questions('tandläkare')"
   ]
  },
  {
   "cell_type": "code",
   "execution_count": null,
   "id": "contrary-climate",
   "metadata": {},
   "outputs": [],
   "source": []
  }
 ],
 "metadata": {
  "kernelspec": {
   "display_name": "testenv",
   "language": "python",
   "name": "testenv"
  },
  "language_info": {
   "codemirror_mode": {
    "name": "ipython",
    "version": 3
   },
   "file_extension": ".py",
   "mimetype": "text/x-python",
   "name": "python",
   "nbconvert_exporter": "python",
   "pygments_lexer": "ipython3",
   "version": "3.8.5"
  }
 },
 "nbformat": 4,
 "nbformat_minor": 5
}
